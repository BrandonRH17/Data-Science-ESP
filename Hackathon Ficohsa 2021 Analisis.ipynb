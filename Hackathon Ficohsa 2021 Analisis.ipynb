{
 "cells": [
  {
   "cell_type": "markdown",
   "metadata": {},
   "source": [
    "# Hackathon Ficohsa 2021 - Data Analytics"
   ]
  },
  {
   "cell_type": "markdown",
   "metadata": {},
   "source": [
    "En este notebook detallaremos el procedimiento realizado en Python para poder segmentar a los clientes acorde a sus comportamientos de gastos. "
   ]
  },
  {
   "cell_type": "code",
   "execution_count": 1,
   "metadata": {},
   "outputs": [],
   "source": [
    "import pandas as pd\n",
    "import matplotlib.pyplot as plt\n",
    "import seaborn as sns\n",
    "import numpy as np\n",
    "from scipy.stats import norm\n",
    "from sklearn.preprocessing import StandardScaler\n",
    "from scipy import stats\n",
    "import warnings\n",
    "warnings.filterwarnings('ignore')\n",
    "%matplotlib inline\n"
   ]
  },
  {
   "cell_type": "code",
   "execution_count": 2,
   "metadata": {},
   "outputs": [
    {
     "name": "stdout",
     "output_type": "stream",
     "text": [
      "Dataframes creados éxitosamente\n"
     ]
    }
   ],
   "source": [
    "df_clientes = pd.read_csv('CLIENTES_CSV')\n",
    "df_transacciones = pd.read_csv('TRANSACCIONES_CSV', encoding = 'latin-1')\n",
    "print('Dataframes creados éxitosamente')"
   ]
  },
  {
   "cell_type": "markdown",
   "metadata": {},
   "source": [
    "## Exploración de dataset de Clientes"
   ]
  },
  {
   "cell_type": "code",
   "execution_count": 3,
   "metadata": {},
   "outputs": [
    {
     "data": {
      "text/html": [
       "<div>\n",
       "<style scoped>\n",
       "    .dataframe tbody tr th:only-of-type {\n",
       "        vertical-align: middle;\n",
       "    }\n",
       "\n",
       "    .dataframe tbody tr th {\n",
       "        vertical-align: top;\n",
       "    }\n",
       "\n",
       "    .dataframe thead th {\n",
       "        text-align: right;\n",
       "    }\n",
       "</style>\n",
       "<table border=\"1\" class=\"dataframe\">\n",
       "  <thead>\n",
       "    <tr style=\"text-align: right;\">\n",
       "      <th></th>\n",
       "      <th>CODIGO_CLIENTE</th>\n",
       "      <th>SEGMENTO</th>\n",
       "      <th>EDAD</th>\n",
       "      <th>GENERO</th>\n",
       "    </tr>\n",
       "  </thead>\n",
       "  <tbody>\n",
       "    <tr>\n",
       "      <th>0</th>\n",
       "      <td>10219832</td>\n",
       "      <td>CLASICO</td>\n",
       "      <td>65</td>\n",
       "      <td>MASCULINO</td>\n",
       "    </tr>\n",
       "    <tr>\n",
       "      <th>1</th>\n",
       "      <td>7853744</td>\n",
       "      <td>CLASICO</td>\n",
       "      <td>36</td>\n",
       "      <td>FEMENINO</td>\n",
       "    </tr>\n",
       "    <tr>\n",
       "      <th>2</th>\n",
       "      <td>7855108</td>\n",
       "      <td>CLASICO</td>\n",
       "      <td>42</td>\n",
       "      <td>FEMENINO</td>\n",
       "    </tr>\n",
       "    <tr>\n",
       "      <th>3</th>\n",
       "      <td>7860671</td>\n",
       "      <td>CLASICO</td>\n",
       "      <td>36</td>\n",
       "      <td>MASCULINO</td>\n",
       "    </tr>\n",
       "    <tr>\n",
       "      <th>4</th>\n",
       "      <td>7985606</td>\n",
       "      <td>CLASICO</td>\n",
       "      <td>61</td>\n",
       "      <td>FEMENINO</td>\n",
       "    </tr>\n",
       "  </tbody>\n",
       "</table>\n",
       "</div>"
      ],
      "text/plain": [
       "  CODIGO_CLIENTE SEGMENTO  EDAD     GENERO\n",
       "0       10219832  CLASICO    65  MASCULINO\n",
       "1        7853744  CLASICO    36   FEMENINO\n",
       "2        7855108  CLASICO    42   FEMENINO\n",
       "3        7860671  CLASICO    36  MASCULINO\n",
       "4        7985606  CLASICO    61   FEMENINO"
      ]
     },
     "execution_count": 3,
     "metadata": {},
     "output_type": "execute_result"
    }
   ],
   "source": [
    "df_clientes.head()"
   ]
  },
  {
   "cell_type": "code",
   "execution_count": 4,
   "metadata": {},
   "outputs": [
    {
     "data": {
      "text/plain": [
       "CODIGO_CLIENTE    361835\n",
       "SEGMENTO          361835\n",
       "EDAD              361835\n",
       "GENERO            361835\n",
       "dtype: int64"
      ]
     },
     "execution_count": 4,
     "metadata": {},
     "output_type": "execute_result"
    }
   ],
   "source": [
    "df_clientes.count()\n"
   ]
  },
  {
   "cell_type": "code",
   "execution_count": 5,
   "metadata": {},
   "outputs": [
    {
     "data": {
      "text/plain": [
       "CODIGO_CLIENTE    0\n",
       "SEGMENTO          0\n",
       "EDAD              0\n",
       "GENERO            0\n",
       "dtype: int64"
      ]
     },
     "execution_count": 5,
     "metadata": {},
     "output_type": "execute_result"
    }
   ],
   "source": [
    "df_clientes.isnull().sum()"
   ]
  },
  {
   "cell_type": "code",
   "execution_count": 6,
   "metadata": {},
   "outputs": [],
   "source": [
    "df_clientes.set_index('CODIGO_CLIENTE', inplace = True)"
   ]
  },
  {
   "cell_type": "code",
   "execution_count": 7,
   "metadata": {},
   "outputs": [
    {
     "data": {
      "text/html": [
       "<div>\n",
       "<style scoped>\n",
       "    .dataframe tbody tr th:only-of-type {\n",
       "        vertical-align: middle;\n",
       "    }\n",
       "\n",
       "    .dataframe tbody tr th {\n",
       "        vertical-align: top;\n",
       "    }\n",
       "\n",
       "    .dataframe thead th {\n",
       "        text-align: right;\n",
       "    }\n",
       "</style>\n",
       "<table border=\"1\" class=\"dataframe\">\n",
       "  <thead>\n",
       "    <tr style=\"text-align: right;\">\n",
       "      <th></th>\n",
       "      <th>EDAD</th>\n",
       "    </tr>\n",
       "  </thead>\n",
       "  <tbody>\n",
       "    <tr>\n",
       "      <th>count</th>\n",
       "      <td>361835.000000</td>\n",
       "    </tr>\n",
       "    <tr>\n",
       "      <th>mean</th>\n",
       "      <td>36.551464</td>\n",
       "    </tr>\n",
       "    <tr>\n",
       "      <th>std</th>\n",
       "      <td>12.722365</td>\n",
       "    </tr>\n",
       "    <tr>\n",
       "      <th>min</th>\n",
       "      <td>0.000000</td>\n",
       "    </tr>\n",
       "    <tr>\n",
       "      <th>25%</th>\n",
       "      <td>26.000000</td>\n",
       "    </tr>\n",
       "    <tr>\n",
       "      <th>50%</th>\n",
       "      <td>34.000000</td>\n",
       "    </tr>\n",
       "    <tr>\n",
       "      <th>75%</th>\n",
       "      <td>44.000000</td>\n",
       "    </tr>\n",
       "    <tr>\n",
       "      <th>max</th>\n",
       "      <td>141.000000</td>\n",
       "    </tr>\n",
       "  </tbody>\n",
       "</table>\n",
       "</div>"
      ],
      "text/plain": [
       "                EDAD\n",
       "count  361835.000000\n",
       "mean       36.551464\n",
       "std        12.722365\n",
       "min         0.000000\n",
       "25%        26.000000\n",
       "50%        34.000000\n",
       "75%        44.000000\n",
       "max       141.000000"
      ]
     },
     "execution_count": 7,
     "metadata": {},
     "output_type": "execute_result"
    }
   ],
   "source": [
    "df_clientes.describe()"
   ]
  },
  {
   "cell_type": "code",
   "execution_count": 8,
   "metadata": {},
   "outputs": [
    {
     "data": {
      "text/plain": [
       "array(['CLASICO', 'PLATINO', 'ORO', 'ESPECIAL'], dtype=object)"
      ]
     },
     "execution_count": 8,
     "metadata": {},
     "output_type": "execute_result"
    }
   ],
   "source": [
    "df_clientes['SEGMENTO'].unique()"
   ]
  },
  {
   "cell_type": "code",
   "execution_count": 9,
   "metadata": {},
   "outputs": [
    {
     "data": {
      "text/plain": [
       "<AxesSubplot:xlabel='EDAD', ylabel='Density'>"
      ]
     },
     "execution_count": 9,
     "metadata": {},
     "output_type": "execute_result"
    },
    {
     "data": {
      "image/png": "[encoded data removed]",
      "text/plain": [
       "<Figure size 432x288 with 1 Axes>"
      ]
     },
     "metadata": {
      "needs_background": "light"
     },
     "output_type": "display_data"
    }
   ],
   "source": [
    "sns.distplot(df_clientes['EDAD'])"
   ]
  },
  {
   "cell_type": "code",
   "execution_count": 10,
   "metadata": {},
   "outputs": [
    {
     "data": {
      "text/plain": [
       "0.8999915573951883"
      ]
     },
     "execution_count": 10,
     "metadata": {},
     "output_type": "execute_result"
    }
   ],
   "source": [
    "df_clientes['EDAD'].skew()"
   ]
  },
  {
   "cell_type": "code",
   "execution_count": 11,
   "metadata": {},
   "outputs": [],
   "source": [
    "df_clientes['EDAD'] = df_clientes['EDAD'].map(lambda x: np.log(x) if x > 0 else 0)"
   ]
  },
  {
   "cell_type": "code",
   "execution_count": 12,
   "metadata": {},
   "outputs": [
    {
     "data": {
      "text/plain": [
       "<AxesSubplot:xlabel='EDAD', ylabel='Density'>"
      ]
     },
     "execution_count": 12,
     "metadata": {},
     "output_type": "execute_result"
    },
    {
     "data": {
      "image/png": "[encoded data removed]",
      "text/plain": [
       "<Figure size 432x288 with 1 Axes>"
      ]
     },
     "metadata": {
      "needs_background": "light"
     },
     "output_type": "display_data"
    }
   ],
   "source": [
    "sns.distplot(df_clientes['EDAD'])"
   ]
  },
  {
   "cell_type": "code",
   "execution_count": 13,
   "metadata": {},
   "outputs": [
    {
     "data": {
      "text/plain": [
       "0.16542547282058642"
      ]
     },
     "execution_count": 13,
     "metadata": {},
     "output_type": "execute_result"
    }
   ],
   "source": [
    "df_clientes['EDAD'].skew()"
   ]
  },
  {
   "cell_type": "code",
   "execution_count": 14,
   "metadata": {},
   "outputs": [],
   "source": [
    "df_clientes['SEGMENTO'] = df_clientes['SEGMENTO'].map({'CLASICO': 1, 'PLATINO':3,'ORO':2, 'ESPECIAL':4})\n",
    "df_clientes['GENERO'] = df_clientes['GENERO'].map({'MASCULINO': 0, 'FEMENINO':1})\n"
   ]
  },
  {
   "cell_type": "code",
   "execution_count": 15,
   "metadata": {},
   "outputs": [
    {
     "data": {
      "text/html": [
       "<div>\n",
       "<style scoped>\n",
       "    .dataframe tbody tr th:only-of-type {\n",
       "        vertical-align: middle;\n",
       "    }\n",
       "\n",
       "    .dataframe tbody tr th {\n",
       "        vertical-align: top;\n",
       "    }\n",
       "\n",
       "    .dataframe thead th {\n",
       "        text-align: right;\n",
       "    }\n",
       "</style>\n",
       "<table border=\"1\" class=\"dataframe\">\n",
       "  <thead>\n",
       "    <tr style=\"text-align: right;\">\n",
       "      <th></th>\n",
       "      <th>SEGMENTO</th>\n",
       "      <th>EDAD</th>\n",
       "      <th>GENERO</th>\n",
       "    </tr>\n",
       "    <tr>\n",
       "      <th>CODIGO_CLIENTE</th>\n",
       "      <th></th>\n",
       "      <th></th>\n",
       "      <th></th>\n",
       "    </tr>\n",
       "  </thead>\n",
       "  <tbody>\n",
       "    <tr>\n",
       "      <th>10219832</th>\n",
       "      <td>1</td>\n",
       "      <td>4.174387</td>\n",
       "      <td>0</td>\n",
       "    </tr>\n",
       "    <tr>\n",
       "      <th>7853744</th>\n",
       "      <td>1</td>\n",
       "      <td>3.583519</td>\n",
       "      <td>1</td>\n",
       "    </tr>\n",
       "    <tr>\n",
       "      <th>7855108</th>\n",
       "      <td>1</td>\n",
       "      <td>3.737670</td>\n",
       "      <td>1</td>\n",
       "    </tr>\n",
       "    <tr>\n",
       "      <th>7860671</th>\n",
       "      <td>1</td>\n",
       "      <td>3.583519</td>\n",
       "      <td>0</td>\n",
       "    </tr>\n",
       "    <tr>\n",
       "      <th>7985606</th>\n",
       "      <td>1</td>\n",
       "      <td>4.110874</td>\n",
       "      <td>1</td>\n",
       "    </tr>\n",
       "  </tbody>\n",
       "</table>\n",
       "</div>"
      ],
      "text/plain": [
       "                SEGMENTO      EDAD  GENERO\n",
       "CODIGO_CLIENTE                            \n",
       "10219832               1  4.174387       0\n",
       "7853744                1  3.583519       1\n",
       "7855108                1  3.737670       1\n",
       "7860671                1  3.583519       0\n",
       "7985606                1  4.110874       1"
      ]
     },
     "execution_count": 15,
     "metadata": {},
     "output_type": "execute_result"
    }
   ],
   "source": [
    "df_clientes.head()"
   ]
  },
  {
   "cell_type": "code",
   "execution_count": 16,
   "metadata": {},
   "outputs": [
    {
     "data": {
      "text/plain": [
       "<AxesSubplot:>"
      ]
     },
     "execution_count": 16,
     "metadata": {},
     "output_type": "execute_result"
    },
    {
     "data": {
      "image/png": "[encoded data removed]",
      "text/plain": [
       "<Figure size 432x288 with 2 Axes>"
      ]
     },
     "metadata": {
      "needs_background": "light"
     },
     "output_type": "display_data"
    }
   ],
   "source": [
    "sns.heatmap(df_clientes.corr(), annot = True, cmap = 'coolwarm')"
   ]
  },
  {
   "cell_type": "markdown",
   "metadata": {},
   "source": [
    "## Exploración de dataset de transacciones"
   ]
  },
  {
   "cell_type": "code",
   "execution_count": 17,
   "metadata": {},
   "outputs": [
    {
     "data": {
      "text/html": [
       "<div>\n",
       "<style scoped>\n",
       "    .dataframe tbody tr th:only-of-type {\n",
       "        vertical-align: middle;\n",
       "    }\n",
       "\n",
       "    .dataframe tbody tr th {\n",
       "        vertical-align: top;\n",
       "    }\n",
       "\n",
       "    .dataframe thead th {\n",
       "        text-align: right;\n",
       "    }\n",
       "</style>\n",
       "<table border=\"1\" class=\"dataframe\">\n",
       "  <thead>\n",
       "    <tr style=\"text-align: right;\">\n",
       "      <th></th>\n",
       "      <th>CODIGO_CLIENTE</th>\n",
       "      <th>DESCRIPCION_BIN</th>\n",
       "      <th>FECHA_TRANSACCION</th>\n",
       "      <th>TIPO_TARJETA</th>\n",
       "      <th>DESCRIPCION_MCC</th>\n",
       "      <th>MONEDA</th>\n",
       "      <th>MONTO</th>\n",
       "    </tr>\n",
       "  </thead>\n",
       "  <tbody>\n",
       "    <tr>\n",
       "      <th>0</th>\n",
       "      <td>9158663</td>\n",
       "      <td>CLASICA</td>\n",
       "      <td>23-JUL-21</td>\n",
       "      <td>TC</td>\n",
       "      <td>GASOLINERAS</td>\n",
       "      <td>340 - Lempira</td>\n",
       "      <td>206.72</td>\n",
       "    </tr>\n",
       "    <tr>\n",
       "      <th>1</th>\n",
       "      <td>7985561</td>\n",
       "      <td>PLATINUM</td>\n",
       "      <td>11-SEP-21</td>\n",
       "      <td>TC</td>\n",
       "      <td>BODEGAS DE SUMINISTROS PARA EL HOGAR</td>\n",
       "      <td>840 - Dolar</td>\n",
       "      <td>46.80</td>\n",
       "    </tr>\n",
       "    <tr>\n",
       "      <th>2</th>\n",
       "      <td>8034303</td>\n",
       "      <td>SIGNATURE</td>\n",
       "      <td>30-JUL-21</td>\n",
       "      <td>TC</td>\n",
       "      <td>GRUPOS DE CARIDAD</td>\n",
       "      <td>340 - Lempira</td>\n",
       "      <td>21960.00</td>\n",
       "    </tr>\n",
       "    <tr>\n",
       "      <th>3</th>\n",
       "      <td>9119840</td>\n",
       "      <td>ORO</td>\n",
       "      <td>09-AUG-21</td>\n",
       "      <td>TC</td>\n",
       "      <td>SUPERMERCADOS</td>\n",
       "      <td>340 - Lempira</td>\n",
       "      <td>792.79</td>\n",
       "    </tr>\n",
       "    <tr>\n",
       "      <th>4</th>\n",
       "      <td>8822651</td>\n",
       "      <td>CLASICA</td>\n",
       "      <td>14-SEP-21</td>\n",
       "      <td>TC</td>\n",
       "      <td>GASOLINERAS</td>\n",
       "      <td>340 - Lempira</td>\n",
       "      <td>1480.20</td>\n",
       "    </tr>\n",
       "  </tbody>\n",
       "</table>\n",
       "</div>"
      ],
      "text/plain": [
       "   CODIGO_CLIENTE DESCRIPCION_BIN FECHA_TRANSACCION TIPO_TARJETA  \\\n",
       "0         9158663         CLASICA         23-JUL-21           TC   \n",
       "1         7985561        PLATINUM         11-SEP-21           TC   \n",
       "2         8034303       SIGNATURE         30-JUL-21           TC   \n",
       "3         9119840             ORO         09-AUG-21           TC   \n",
       "4         8822651         CLASICA         14-SEP-21           TC   \n",
       "\n",
       "                        DESCRIPCION_MCC         MONEDA     MONTO  \n",
       "0                          GASOLINERAS   340 - Lempira    206.72  \n",
       "1  BODEGAS DE SUMINISTROS PARA EL HOGAR    840 - Dolar     46.80  \n",
       "2                    GRUPOS DE CARIDAD   340 - Lempira  21960.00  \n",
       "3                        SUPERMERCADOS   340 - Lempira    792.79  \n",
       "4                          GASOLINERAS   340 - Lempira   1480.20  "
      ]
     },
     "execution_count": 17,
     "metadata": {},
     "output_type": "execute_result"
    }
   ],
   "source": [
    "df_transacciones.head()"
   ]
  },
  {
   "cell_type": "code",
   "execution_count": 18,
   "metadata": {},
   "outputs": [
    {
     "data": {
      "text/plain": [
       "CODIGO_CLIENTE         int64\n",
       "DESCRIPCION_BIN       object\n",
       "FECHA_TRANSACCION     object\n",
       "TIPO_TARJETA          object\n",
       "DESCRIPCION_MCC       object\n",
       "MONEDA                object\n",
       "MONTO                float64\n",
       "dtype: object"
      ]
     },
     "execution_count": 18,
     "metadata": {},
     "output_type": "execute_result"
    }
   ],
   "source": [
    "df_transacciones.dtypes"
   ]
  },
  {
   "cell_type": "code",
   "execution_count": 19,
   "metadata": {},
   "outputs": [
    {
     "data": {
      "text/plain": [
       "CODIGO_CLIENTE          0\n",
       "DESCRIPCION_BIN      2142\n",
       "FECHA_TRANSACCION       0\n",
       "TIPO_TARJETA            0\n",
       "DESCRIPCION_MCC         0\n",
       "MONEDA                  0\n",
       "MONTO                   1\n",
       "dtype: int64"
      ]
     },
     "execution_count": 19,
     "metadata": {},
     "output_type": "execute_result"
    }
   ],
   "source": [
    "df_transacciones.isnull().sum()"
   ]
  },
  {
   "cell_type": "code",
   "execution_count": 20,
   "metadata": {},
   "outputs": [
    {
     "data": {
      "text/plain": [
       "CODIGO_CLIENTE       2465898\n",
       "DESCRIPCION_BIN      2463756\n",
       "FECHA_TRANSACCION    2465898\n",
       "TIPO_TARJETA         2465898\n",
       "DESCRIPCION_MCC      2465898\n",
       "MONEDA               2465898\n",
       "MONTO                2465897\n",
       "dtype: int64"
      ]
     },
     "execution_count": 20,
     "metadata": {},
     "output_type": "execute_result"
    }
   ],
   "source": [
    "df_transacciones.count()"
   ]
  },
  {
   "cell_type": "code",
   "execution_count": 21,
   "metadata": {},
   "outputs": [
    {
     "data": {
      "text/plain": [
       "'CLASICA'"
      ]
     },
     "execution_count": 21,
     "metadata": {},
     "output_type": "execute_result"
    }
   ],
   "source": [
    "moda_descripcion = df_transacciones['DESCRIPCION_BIN'].dropna().mode()[0]\n",
    "moda_descripcion"
   ]
  },
  {
   "cell_type": "code",
   "execution_count": 22,
   "metadata": {},
   "outputs": [],
   "source": [
    "df_transacciones['DESCRIPCION_BIN'].fillna(moda_descripcion, inplace = True)"
   ]
  },
  {
   "cell_type": "code",
   "execution_count": 23,
   "metadata": {},
   "outputs": [
    {
     "data": {
      "text/plain": [
       "CODIGO_CLIENTE       0\n",
       "DESCRIPCION_BIN      0\n",
       "FECHA_TRANSACCION    0\n",
       "TIPO_TARJETA         0\n",
       "DESCRIPCION_MCC      0\n",
       "MONEDA               0\n",
       "MONTO                1\n",
       "dtype: int64"
      ]
     },
     "execution_count": 23,
     "metadata": {},
     "output_type": "execute_result"
    }
   ],
   "source": [
    "df_transacciones.isnull().sum()"
   ]
  },
  {
   "cell_type": "code",
   "execution_count": 24,
   "metadata": {},
   "outputs": [
    {
     "data": {
      "text/plain": [
       "CODIGO_CLIENTE       0\n",
       "DESCRIPCION_BIN      0\n",
       "FECHA_TRANSACCION    0\n",
       "TIPO_TARJETA         0\n",
       "DESCRIPCION_MCC      0\n",
       "MONEDA               0\n",
       "MONTO                0\n",
       "dtype: int64"
      ]
     },
     "execution_count": 24,
     "metadata": {},
     "output_type": "execute_result"
    }
   ],
   "source": [
    "df_transacciones.dropna(axis = 0, inplace = True)\n",
    "df_transacciones.isnull().sum()"
   ]
  },
  {
   "cell_type": "code",
   "execution_count": 25,
   "metadata": {},
   "outputs": [
    {
     "data": {
      "text/plain": [
       "CODIGO_CLIENTE       2465897\n",
       "DESCRIPCION_BIN      2465897\n",
       "FECHA_TRANSACCION    2465897\n",
       "TIPO_TARJETA         2465897\n",
       "DESCRIPCION_MCC      2465897\n",
       "MONEDA               2465897\n",
       "MONTO                2465897\n",
       "dtype: int64"
      ]
     },
     "execution_count": 25,
     "metadata": {},
     "output_type": "execute_result"
    }
   ],
   "source": [
    "df_transacciones.count()"
   ]
  },
  {
   "cell_type": "code",
   "execution_count": 26,
   "metadata": {},
   "outputs": [
    {
     "data": {
      "text/plain": [
       "array(['CLASICA', 'PLATINUM', 'SIGNATURE', 'ORO', 'ORO INTERNACIONAL',\n",
       "       'INFINITE', 'VISA CLASICA INTERNACIONAL', 'CLASICA LOCAL',\n",
       "       'VISA PLATINUM', 'CLASSIC INTERNACIONAL 2', 'GOLD 2',\n",
       "       'STANDARD MC', 'VISA GOLD INTERNACIONAL', 'STANDARD', 'MC BLACK',\n",
       "       'VISA CLASICA', 'GOLD MC', 'BUSINESS', 'CLASICA CON CHIP', 'PLAN',\n",
       "       'FICOHSA REMESAS', 'CLASICO DISFRUTA MAS', 'ORO VISA DEBITO',\n",
       "       'CLICK', 'TD FICOHSA PLATINUM', 'VISA INFINITE DEBITO',\n",
       "       'TARJETA DEBITO UNITEC', 'TARJETA DEBITO PYME', 'CORPORATE',\n",
       "       'MP CLASSIC', 'GLOBAL VISA DEBITO'], dtype=object)"
      ]
     },
     "execution_count": 26,
     "metadata": {},
     "output_type": "execute_result"
    }
   ],
   "source": [
    "df_transacciones['DESCRIPCION_BIN'].unique()"
   ]
  },
  {
   "cell_type": "markdown",
   "metadata": {},
   "source": [
    "En esta instancia, 1 representa Clásica, 2 representa Oro, 3 representa Platinum, 4 representa Otro tipo"
   ]
  },
  {
   "cell_type": "code",
   "execution_count": 27,
   "metadata": {},
   "outputs": [],
   "source": [
    "df_transacciones['DESCRIPCION_BIN'] = df_transacciones['DESCRIPCION_BIN'].map({'CLASICA':1, 'PLATINUM': 3, 'SIGNATURE': 4, 'ORO':2, \n",
    "                                                            'ORO INTERNACIONAL': 2, 'INFINITE': 4, 'VISA CLASICA INTERNACIONAL': 1, \n",
    "                                                            'CLASICA LOCAL': 1, 'VISA PLATINUM': 3, 'CLASSIC INTERNACIONAL 2': 1,\n",
    "                                                           'GOLD 2': 2, 'STANDARD MC': 1, 'VISA GOLD INTERNACIONAL': 2, \n",
    "                                                           'STANDARD': 1, 'MC BLACK': 3, 'VISA CLASICA': 1, 'GOLD MC': 2, \n",
    "                                                           'BUSINESS': 4, 'CLASICA CON CHIP': 1, 'PLAN': 4, 'FICOHSA REMESAS': 4,\n",
    "                                                           'CLASICO DISFRUTA MAS': 1, 'ORO VISA DEBITO': 2, 'CLICK': 4,\n",
    "                                                           'TD FICOHSA PLATINUM': 3, 'VISA INFINITE DEBITO': 4, \n",
    "                                                           'TARJETA DEBITO UNITEC': 4, 'TARJETA DEBITO PYME': 4, 'CORPORATE': 4,\n",
    "                                                           'MP CLASSIC': 1, 'GLOBAL VISA DEBITO': 4})"
   ]
  },
  {
   "cell_type": "code",
   "execution_count": 28,
   "metadata": {},
   "outputs": [
    {
     "data": {
      "text/plain": [
       "array([1, 3, 4, 2], dtype=int64)"
      ]
     },
     "execution_count": 28,
     "metadata": {},
     "output_type": "execute_result"
    }
   ],
   "source": [
    "df_transacciones['DESCRIPCION_BIN'].unique()"
   ]
  },
  {
   "cell_type": "code",
   "execution_count": 29,
   "metadata": {},
   "outputs": [
    {
     "data": {
      "text/plain": [
       "array(['TC', 'TD'], dtype=object)"
      ]
     },
     "execution_count": 29,
     "metadata": {},
     "output_type": "execute_result"
    }
   ],
   "source": [
    "df_transacciones['TIPO_TARJETA'].unique()"
   ]
  },
  {
   "cell_type": "code",
   "execution_count": 30,
   "metadata": {},
   "outputs": [],
   "source": [
    "df_transacciones['TIPO_TARJETA'] = df_transacciones['TIPO_TARJETA'].map({'TD':0,'TC':1})"
   ]
  },
  {
   "cell_type": "code",
   "execution_count": 31,
   "metadata": {},
   "outputs": [
    {
     "data": {
      "text/plain": [
       "array([1, 0], dtype=int64)"
      ]
     },
     "execution_count": 31,
     "metadata": {},
     "output_type": "execute_result"
    }
   ],
   "source": [
    " df_transacciones['TIPO_TARJETA'].unique()"
   ]
  },
  {
   "cell_type": "code",
   "execution_count": 33,
   "metadata": {},
   "outputs": [
    {
     "data": {
      "text/plain": [
       "array(['340 - Lempira', '840 - Dolar'], dtype=object)"
      ]
     },
     "execution_count": 33,
     "metadata": {},
     "output_type": "execute_result"
    }
   ],
   "source": [
    "df_transacciones['MONEDA'].unique()"
   ]
  },
  {
   "cell_type": "code",
   "execution_count": 34,
   "metadata": {},
   "outputs": [],
   "source": [
    "df_transacciones['MONEDA'] = df_transacciones['MONEDA'].map({'340 - Lempira': 340, '840 - Dolar': 840})"
   ]
  },
  {
   "cell_type": "code",
   "execution_count": 35,
   "metadata": {},
   "outputs": [
    {
     "data": {
      "text/plain": [
       "array([340, 840], dtype=int64)"
      ]
     },
     "execution_count": 35,
     "metadata": {},
     "output_type": "execute_result"
    }
   ],
   "source": [
    "df_transacciones['MONEDA'].unique()"
   ]
  },
  {
   "cell_type": "code",
   "execution_count": 37,
   "metadata": {},
   "outputs": [
    {
     "data": {
      "text/plain": [
       "202510"
      ]
     },
     "execution_count": 37,
     "metadata": {},
     "output_type": "execute_result"
    }
   ],
   "source": [
    "df_transacciones['CODIGO_CLIENTE'].nunique()"
   ]
  },
  {
   "cell_type": "code",
   "execution_count": 38,
   "metadata": {},
   "outputs": [
    {
     "data": {
      "text/plain": [
       "CODIGO_CLIENTE         int64\n",
       "DESCRIPCION_BIN        int64\n",
       "FECHA_TRANSACCION     object\n",
       "TIPO_TARJETA           int64\n",
       "DESCRIPCION_MCC       object\n",
       "MONEDA                 int64\n",
       "MONTO                float64\n",
       "dtype: object"
      ]
     },
     "execution_count": 38,
     "metadata": {},
     "output_type": "execute_result"
    }
   ],
   "source": [
    "df_transacciones.dtypes"
   ]
  },
  {
   "cell_type": "code",
   "execution_count": 43,
   "metadata": {},
   "outputs": [],
   "source": [
    "df_transacciones['FECHA_TRANSACCION'] = pd.to_datetime(df_transacciones['FECHA_TRANSACCION'], infer_datetime_format=True)"
   ]
  },
  {
   "cell_type": "code",
   "execution_count": 44,
   "metadata": {},
   "outputs": [
    {
     "data": {
      "text/html": [
       "<div>\n",
       "<style scoped>\n",
       "    .dataframe tbody tr th:only-of-type {\n",
       "        vertical-align: middle;\n",
       "    }\n",
       "\n",
       "    .dataframe tbody tr th {\n",
       "        vertical-align: top;\n",
       "    }\n",
       "\n",
       "    .dataframe thead th {\n",
       "        text-align: right;\n",
       "    }\n",
       "</style>\n",
       "<table border=\"1\" class=\"dataframe\">\n",
       "  <thead>\n",
       "    <tr style=\"text-align: right;\">\n",
       "      <th></th>\n",
       "      <th>CODIGO_CLIENTE</th>\n",
       "      <th>DESCRIPCION_BIN</th>\n",
       "      <th>FECHA_TRANSACCION</th>\n",
       "      <th>TIPO_TARJETA</th>\n",
       "      <th>DESCRIPCION_MCC</th>\n",
       "      <th>MONEDA</th>\n",
       "      <th>MONTO</th>\n",
       "    </tr>\n",
       "  </thead>\n",
       "  <tbody>\n",
       "    <tr>\n",
       "      <th>0</th>\n",
       "      <td>9158663</td>\n",
       "      <td>1</td>\n",
       "      <td>2021-07-23</td>\n",
       "      <td>1</td>\n",
       "      <td>GASOLINERAS</td>\n",
       "      <td>340</td>\n",
       "      <td>206.72</td>\n",
       "    </tr>\n",
       "    <tr>\n",
       "      <th>1</th>\n",
       "      <td>7985561</td>\n",
       "      <td>3</td>\n",
       "      <td>2021-09-11</td>\n",
       "      <td>1</td>\n",
       "      <td>BODEGAS DE SUMINISTROS PARA EL HOGAR</td>\n",
       "      <td>840</td>\n",
       "      <td>46.80</td>\n",
       "    </tr>\n",
       "    <tr>\n",
       "      <th>2</th>\n",
       "      <td>8034303</td>\n",
       "      <td>4</td>\n",
       "      <td>2021-07-30</td>\n",
       "      <td>1</td>\n",
       "      <td>GRUPOS DE CARIDAD</td>\n",
       "      <td>340</td>\n",
       "      <td>21960.00</td>\n",
       "    </tr>\n",
       "    <tr>\n",
       "      <th>3</th>\n",
       "      <td>9119840</td>\n",
       "      <td>2</td>\n",
       "      <td>2021-08-09</td>\n",
       "      <td>1</td>\n",
       "      <td>SUPERMERCADOS</td>\n",
       "      <td>340</td>\n",
       "      <td>792.79</td>\n",
       "    </tr>\n",
       "    <tr>\n",
       "      <th>4</th>\n",
       "      <td>8822651</td>\n",
       "      <td>1</td>\n",
       "      <td>2021-09-14</td>\n",
       "      <td>1</td>\n",
       "      <td>GASOLINERAS</td>\n",
       "      <td>340</td>\n",
       "      <td>1480.20</td>\n",
       "    </tr>\n",
       "  </tbody>\n",
       "</table>\n",
       "</div>"
      ],
      "text/plain": [
       "   CODIGO_CLIENTE  DESCRIPCION_BIN FECHA_TRANSACCION  TIPO_TARJETA  \\\n",
       "0         9158663                1        2021-07-23             1   \n",
       "1         7985561                3        2021-09-11             1   \n",
       "2         8034303                4        2021-07-30             1   \n",
       "3         9119840                2        2021-08-09             1   \n",
       "4         8822651                1        2021-09-14             1   \n",
       "\n",
       "                        DESCRIPCION_MCC  MONEDA     MONTO  \n",
       "0                          GASOLINERAS      340    206.72  \n",
       "1  BODEGAS DE SUMINISTROS PARA EL HOGAR     840     46.80  \n",
       "2                    GRUPOS DE CARIDAD      340  21960.00  \n",
       "3                        SUPERMERCADOS      340    792.79  \n",
       "4                          GASOLINERAS      340   1480.20  "
      ]
     },
     "execution_count": 44,
     "metadata": {},
     "output_type": "execute_result"
    }
   ],
   "source": [
    "df_transacciones.head()"
   ]
  },
  {
   "cell_type": "code",
   "execution_count": 45,
   "metadata": {},
   "outputs": [
    {
     "data": {
      "text/plain": [
       "CODIGO_CLIENTE                int64\n",
       "DESCRIPCION_BIN               int64\n",
       "FECHA_TRANSACCION    datetime64[ns]\n",
       "TIPO_TARJETA                  int64\n",
       "DESCRIPCION_MCC              object\n",
       "MONEDA                        int64\n",
       "MONTO                       float64\n",
       "dtype: object"
      ]
     },
     "execution_count": 45,
     "metadata": {},
     "output_type": "execute_result"
    }
   ],
   "source": [
    "df_transacciones.dtypes"
   ]
  },
  {
   "cell_type": "code",
   "execution_count": 46,
   "metadata": {},
   "outputs": [],
   "source": [
    "df_transacciones['DIA_TRANSACCION'] = df_transacciones['FECHA_TRANSACCION'].dt.day\n",
    "df_transacciones['SEMANA_TRANSACCION'] = df_transacciones['FECHA_TRANSACCION'].dt.week\n",
    "df_transacciones['MES_TRANSACCION'] = df_transacciones['FECHA_TRANSACCION'].dt.month\n",
    "df_transacciones['AÑO_TRANSACCION'] = df_transacciones['FECHA_TRANSACCION'].dt.year\n",
    "df_transacciones['DIADESEMANA_TRANSACCION'] = df_transacciones['FECHA_TRANSACCION'].dt.dayofweek\n"
   ]
  },
  {
   "cell_type": "markdown",
   "metadata": {},
   "source": [
    "En este caso, Dia de semana representa 0 el domingo, 1 el lunes, 2 el martes y asi consecutivamente. "
   ]
  },
  {
   "cell_type": "code",
   "execution_count": 47,
   "metadata": {},
   "outputs": [
    {
     "data": {
      "text/html": [
       "<div>\n",
       "<style scoped>\n",
       "    .dataframe tbody tr th:only-of-type {\n",
       "        vertical-align: middle;\n",
       "    }\n",
       "\n",
       "    .dataframe tbody tr th {\n",
       "        vertical-align: top;\n",
       "    }\n",
       "\n",
       "    .dataframe thead th {\n",
       "        text-align: right;\n",
       "    }\n",
       "</style>\n",
       "<table border=\"1\" class=\"dataframe\">\n",
       "  <thead>\n",
       "    <tr style=\"text-align: right;\">\n",
       "      <th></th>\n",
       "      <th>CODIGO_CLIENTE</th>\n",
       "      <th>DESCRIPCION_BIN</th>\n",
       "      <th>FECHA_TRANSACCION</th>\n",
       "      <th>TIPO_TARJETA</th>\n",
       "      <th>DESCRIPCION_MCC</th>\n",
       "      <th>MONEDA</th>\n",
       "      <th>MONTO</th>\n",
       "      <th>DIA_TRANSACCION</th>\n",
       "      <th>SEMANA_TRANSACCION</th>\n",
       "      <th>MES_TRANSACCION</th>\n",
       "      <th>AÑO_TRANSACCION</th>\n",
       "      <th>DIADESEMANA_TRANSACCION</th>\n",
       "    </tr>\n",
       "  </thead>\n",
       "  <tbody>\n",
       "    <tr>\n",
       "      <th>0</th>\n",
       "      <td>9158663</td>\n",
       "      <td>1</td>\n",
       "      <td>2021-07-23</td>\n",
       "      <td>1</td>\n",
       "      <td>GASOLINERAS</td>\n",
       "      <td>340</td>\n",
       "      <td>206.72</td>\n",
       "      <td>23</td>\n",
       "      <td>29</td>\n",
       "      <td>7</td>\n",
       "      <td>2021</td>\n",
       "      <td>4</td>\n",
       "    </tr>\n",
       "    <tr>\n",
       "      <th>1</th>\n",
       "      <td>7985561</td>\n",
       "      <td>3</td>\n",
       "      <td>2021-09-11</td>\n",
       "      <td>1</td>\n",
       "      <td>BODEGAS DE SUMINISTROS PARA EL HOGAR</td>\n",
       "      <td>840</td>\n",
       "      <td>46.80</td>\n",
       "      <td>11</td>\n",
       "      <td>36</td>\n",
       "      <td>9</td>\n",
       "      <td>2021</td>\n",
       "      <td>5</td>\n",
       "    </tr>\n",
       "    <tr>\n",
       "      <th>2</th>\n",
       "      <td>8034303</td>\n",
       "      <td>4</td>\n",
       "      <td>2021-07-30</td>\n",
       "      <td>1</td>\n",
       "      <td>GRUPOS DE CARIDAD</td>\n",
       "      <td>340</td>\n",
       "      <td>21960.00</td>\n",
       "      <td>30</td>\n",
       "      <td>30</td>\n",
       "      <td>7</td>\n",
       "      <td>2021</td>\n",
       "      <td>4</td>\n",
       "    </tr>\n",
       "    <tr>\n",
       "      <th>3</th>\n",
       "      <td>9119840</td>\n",
       "      <td>2</td>\n",
       "      <td>2021-08-09</td>\n",
       "      <td>1</td>\n",
       "      <td>SUPERMERCADOS</td>\n",
       "      <td>340</td>\n",
       "      <td>792.79</td>\n",
       "      <td>9</td>\n",
       "      <td>32</td>\n",
       "      <td>8</td>\n",
       "      <td>2021</td>\n",
       "      <td>0</td>\n",
       "    </tr>\n",
       "    <tr>\n",
       "      <th>4</th>\n",
       "      <td>8822651</td>\n",
       "      <td>1</td>\n",
       "      <td>2021-09-14</td>\n",
       "      <td>1</td>\n",
       "      <td>GASOLINERAS</td>\n",
       "      <td>340</td>\n",
       "      <td>1480.20</td>\n",
       "      <td>14</td>\n",
       "      <td>37</td>\n",
       "      <td>9</td>\n",
       "      <td>2021</td>\n",
       "      <td>1</td>\n",
       "    </tr>\n",
       "  </tbody>\n",
       "</table>\n",
       "</div>"
      ],
      "text/plain": [
       "   CODIGO_CLIENTE  DESCRIPCION_BIN FECHA_TRANSACCION  TIPO_TARJETA  \\\n",
       "0         9158663                1        2021-07-23             1   \n",
       "1         7985561                3        2021-09-11             1   \n",
       "2         8034303                4        2021-07-30             1   \n",
       "3         9119840                2        2021-08-09             1   \n",
       "4         8822651                1        2021-09-14             1   \n",
       "\n",
       "                        DESCRIPCION_MCC  MONEDA     MONTO  DIA_TRANSACCION  \\\n",
       "0                          GASOLINERAS      340    206.72               23   \n",
       "1  BODEGAS DE SUMINISTROS PARA EL HOGAR     840     46.80               11   \n",
       "2                    GRUPOS DE CARIDAD      340  21960.00               30   \n",
       "3                        SUPERMERCADOS      340    792.79                9   \n",
       "4                          GASOLINERAS      340   1480.20               14   \n",
       "\n",
       "   SEMANA_TRANSACCION  MES_TRANSACCION  AÑO_TRANSACCION  \\\n",
       "0                  29                7             2021   \n",
       "1                  36                9             2021   \n",
       "2                  30                7             2021   \n",
       "3                  32                8             2021   \n",
       "4                  37                9             2021   \n",
       "\n",
       "   DIADESEMANA_TRANSACCION  \n",
       "0                        4  \n",
       "1                        5  \n",
       "2                        4  \n",
       "3                        0  \n",
       "4                        1  "
      ]
     },
     "execution_count": 47,
     "metadata": {},
     "output_type": "execute_result"
    }
   ],
   "source": [
    "df_transacciones.head()"
   ]
  },
  {
   "cell_type": "code",
   "execution_count": 48,
   "metadata": {},
   "outputs": [
    {
     "data": {
      "text/plain": [
       "CODIGO_CLIENTE                      int64\n",
       "DESCRIPCION_BIN                     int64\n",
       "FECHA_TRANSACCION          datetime64[ns]\n",
       "TIPO_TARJETA                        int64\n",
       "DESCRIPCION_MCC                    object\n",
       "MONEDA                              int64\n",
       "MONTO                             float64\n",
       "DIA_TRANSACCION                     int64\n",
       "SEMANA_TRANSACCION                  int64\n",
       "MES_TRANSACCION                     int64\n",
       "AÑO_TRANSACCION                     int64\n",
       "DIADESEMANA_TRANSACCION             int64\n",
       "dtype: object"
      ]
     },
     "execution_count": 48,
     "metadata": {},
     "output_type": "execute_result"
    }
   ],
   "source": [
    "df_transacciones.dtypes"
   ]
  },
  {
   "cell_type": "code",
   "execution_count": 52,
   "metadata": {},
   "outputs": [],
   "source": [
    "df_transacciones.drop('FECHA_TRANSACCION', axis = 1, inplace = True)"
   ]
  },
  {
   "cell_type": "code",
   "execution_count": 53,
   "metadata": {},
   "outputs": [
    {
     "data": {
      "text/plain": [
       "CODIGO_CLIENTE               int64\n",
       "DESCRIPCION_BIN              int64\n",
       "TIPO_TARJETA                 int64\n",
       "DESCRIPCION_MCC             object\n",
       "MONEDA                       int64\n",
       "MONTO                      float64\n",
       "DIA_TRANSACCION              int64\n",
       "SEMANA_TRANSACCION           int64\n",
       "MES_TRANSACCION              int64\n",
       "AÑO_TRANSACCION              int64\n",
       "DIADESEMANA_TRANSACCION      int64\n",
       "dtype: object"
      ]
     },
     "execution_count": 53,
     "metadata": {},
     "output_type": "execute_result"
    }
   ],
   "source": [
    "df_transacciones.dtypes"
   ]
  },
  {
   "cell_type": "code",
   "execution_count": null,
   "metadata": {},
   "outputs": [],
   "source": []
  }
 ],
 "metadata": {
  "kernelspec": {
   "display_name": "Python 3",
   "language": "python",
   "name": "python3"
  },
  "language_info": {
   "codemirror_mode": {
    "name": "ipython",
    "version": 3
   },
   "file_extension": ".py",
   "mimetype": "text/x-python",
   "name": "python",
   "nbconvert_exporter": "python",
   "pygments_lexer": "ipython3",
   "version": "3.8.5"
  }
 },
 "nbformat": 4,
 "nbformat_minor": 4
}
